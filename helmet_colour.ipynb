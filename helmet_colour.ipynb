{
 "cells": [
  {
   "cell_type": "code",
   "execution_count": 1,
   "metadata": {},
   "outputs": [],
   "source": [
    "import cv2\n",
    "from sklearn.cluster import KMeans\n",
    "import numpy as np\n",
    "from collections import Counter\n",
    "from skimage.color import rgb2lab, deltaE_cie76\n",
    "import xml.etree.ElementTree as ET"
   ]
  },
  {
   "cell_type": "code",
   "execution_count": 3,
   "metadata": {},
   "outputs": [],
   "source": [
    "#Getting the dominant colours from an image.\n",
    "def get_colors(image, number_of_colors):\n",
    "    \n",
    "    # Resizing the image\n",
    "    modified_image = cv2.resize(image, (600, 400), interpolation = cv2.INTER_AREA)\n",
    "    modified_image = modified_image.reshape(modified_image.shape[0]*modified_image.shape[1], 3)\n",
    "    \n",
    "    #Making clusters of image colours\n",
    "    clf = KMeans(n_clusters = number_of_colors)\n",
    "    labels = clf.fit_predict(modified_image)\n",
    "    \n",
    "    counts = Counter(labels)\n",
    "    \n",
    "    center_colors = clf.cluster_centers_\n",
    "    ordered_colors = [center_colors[i]/255 for i in counts.keys()]\n",
    "    rgb_colors = [ordered_colors[i]*255 for i in counts.keys()]\n",
    "    \n",
    "    # returning the rgb colours\n",
    "    return rgb_colors"
   ]
  },
  {
   "cell_type": "code",
   "execution_count": 4,
   "metadata": {},
   "outputs": [],
   "source": [
    "\n",
    "# This function will input an image and will return the colour of helmet by comparing the image colour with Red,blue,Yello,Green\n",
    "\n",
    "def get_helmet_colour(image,threshold = 60, number_of_colors = 4): \n",
    "    image_colors = get_colors(image, number_of_colors)\n",
    "    minimum_diff = float('inf')\n",
    "    helmet_color = False\n",
    "    \n",
    "    # iterating through all the possible colours and finding the closest colour to the image given(helmet bbox) \n",
    "    for color_name,color_value in helmet_colors.items():\n",
    "        selected_color = rgb2lab(np.uint8(np.asarray([[color_value]])))\n",
    "        for i in range(number_of_colors):\n",
    "            curr_color = rgb2lab(np.uint8(np.asarray([[image_colors[i]]])))\n",
    "            diff = deltaE_cie76(selected_color, curr_color)\n",
    "\n",
    "            if (diff < threshold):\n",
    "                if diff < minimum_diff:\n",
    "                    minimum_diff = diff\n",
    "                    helmet_color = color_name\n",
    "                   \n",
    "    return helmet_color"
   ]
  },
  {
   "cell_type": "code",
   "execution_count": 5,
   "metadata": {},
   "outputs": [],
   "source": [
    "# this function is substitute to the trained model... it will read the xml file and will return the bboxes.\n",
    "def get_detections(path):\n",
    "    tree = ET.parse(path)\n",
    "    root = tree.getroot()\n",
    "\n",
    "    sample_annotations = []\n",
    "    \n",
    "    for neighbor in root.iter('object'):\n",
    "        name = neighbor.find('name').text\n",
    "        xmin = int(neighbor.find('bndbox').find('xmin').text)\n",
    "        ymin = int(neighbor.find('bndbox').find('ymin').text)\n",
    "        xmax = int(neighbor.find('bndbox').find('xmax').text)\n",
    "        ymax = int(neighbor.find('bndbox').find('ymax').text)\n",
    "        \n",
    "        sample_annotations.append([name,[xmin, ymin, xmax, ymax]])\n",
    "    return sample_annotations"
   ]
  },
  {
   "cell_type": "code",
   "execution_count": 9,
   "metadata": {},
   "outputs": [
    {
     "name": "stdout",
     "output_type": "stream",
     "text": [
      "Helmet colour: YELLOW      Type: Labour\n"
     ]
    },
    {
     "data": {
      "text/plain": [
       "True"
      ]
     },
     "execution_count": 9,
     "metadata": {},
     "output_type": "execute_result"
    }
   ],
   "source": [
    "image_path = 'sample_dataset/images/hard_hat_workers4.png'\n",
    "# We are using the xml file to extract the bbox. In place of trained model.\n",
    "annotation_path = 'sample_dataset/annotations/hard_hat_workers4.xml'\n",
    "output_file_name = 'sample_dataset/output/output_image4.jpg'\n",
    "\n",
    "\n",
    "helmet_colors = {\n",
    "    'GREEN': [0, 128, 0],\n",
    "    'BLUE': [0, 0, 128],\n",
    "    'YELLOW': [255, 255, 0],\n",
    "    'RED':[128,0,0]\n",
    "}\n",
    "helmet_type = {\n",
    "    'GREEN' : 'Safety Supervisor',\n",
    "    'RED' : 'Contractor',\n",
    "    'BLUE' : 'Supervisor',\n",
    "    'YELLOW' : 'Labour'\n",
    "}\n",
    "\n",
    "\n",
    "detections = get_detections(annotation_path)\n",
    "\n",
    "img = cv2.imread(image_path)\n",
    "for detection in detections :\n",
    "    if detection[0] == 'helmet' :\n",
    "        xmin,ymin,xmax,ymax = detection[1]\n",
    "        #extracting only the bbox from original image then taking only the upper half of bbox since that is where helmet will be.\n",
    "        img_helmet = img[ymin:((ymin+ymax)//2),xmin:xmax]\n",
    "        img_helmet = cv2.cvtColor(img_helmet, cv2.COLOR_BGR2RGB)\n",
    "        # Recognising the helmet colour\n",
    "        helmet_colour = get_helmet_colour(img_helmet, 60, 4)\n",
    "        if not helmet_colour :\n",
    "            print('Some different colour')\n",
    "            helmet_colour = 'Diff'\n",
    "        else :\n",
    "            print('Helmet colour:',helmet_colour,'     Type:',helmet_type[helmet_colour])  \n",
    "        img = cv2.putText(img,helmet_colour,(xmin,ymin), cv2.FONT_HERSHEY_SIMPLEX,1, (0,0,0), 1, cv2.LINE_AA)\n",
    "\n",
    "cv2.imwrite(output_file_name,img)"
   ]
  },
  {
   "cell_type": "code",
   "execution_count": null,
   "metadata": {},
   "outputs": [],
   "source": []
  }
 ],
 "metadata": {
  "kernelspec": {
   "display_name": "Python 3",
   "language": "python",
   "name": "python3"
  },
  "language_info": {
   "codemirror_mode": {
    "name": "ipython",
    "version": 3
   },
   "file_extension": ".py",
   "mimetype": "text/x-python",
   "name": "python",
   "nbconvert_exporter": "python",
   "pygments_lexer": "ipython3",
   "version": "3.6.9"
  }
 },
 "nbformat": 4,
 "nbformat_minor": 2
}
